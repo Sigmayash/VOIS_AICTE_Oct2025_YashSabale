{
  "cells": [
    {
      "cell_type": "markdown",
      "metadata": {
        "id": "RvQoneBglft3"
      },
      "source": [
        "# Problem Statement: Airbnb Hotel Booking Analysis"
      ]
    },
    {
      "cell_type": "markdown",
      "metadata": {
        "id": "sLSewZQWly0J"
      },
      "source": [
        "The hospitality industry has undergone a significant transformation with the rise of online platforms facilitating short-term lodging and tourism. Leading this revolution is Airbnb, Inc., a pioneering American company that has reshaped travel accommodation through its innovative online marketplace. Established in 2008 in San Francisco, California, Airbnb provides a diverse range of lodging options, offering guests a unique and personalized experience. Unlike traditional hospitality providers, Airbnb operates on a commission-based model, facilitating transactions between hosts and guests without owning the properties listed on its platform.\n",
        "\n",
        "This research analysis delves into the New York City Airbnb dataset to extract meaningful insights. Through rigorous data cleaning, exploratory analysis, and visualization techniques, the study aims to illuminate the dynamics of the city's lodging market. By discerning factors influencing listing availability, pricing strategies, and overall customer satisfaction, the research contributes to a deeper understanding of Airbnb's operations in one of the world's most dynamic urban environments. These insights hold significance for stakeholders and enthusiasts seeking to navigate the evolving landscape of short-term accommodation."
      ]
    },
    {
      "cell_type": "markdown",
      "metadata": {
        "id": "Whk8CZr0l4-Z"
      },
      "source": [
        "# QUESTIONS"
      ]
    },
    {
      "cell_type": "markdown",
      "metadata": {
        "id": "3iGNURuel_qY"
      },
      "source": [
        "1. What are the different property types in the Dataset?\n",
        "2. Which neighborhood group has the highest number of listings?\n",
        "3. Which neighborhood groups have the highest average prices for Airbnb listings?\n",
        "4. Is there a relationship between the construction year of property and price?\n",
        "5. Who are the top 10 hosts by calculated host listing count?\n",
        "6. Are hosts with verified identities more likely to receive positive reviews?\n",
        "7. Is there a correlation between the price of a listing and its service fee?\n",
        "8. What is the average review rate number (e.g., stars) for listings, and does it vary based on the neighborhood group and room type?\n",
        "9. Are hosts with a higher calculated host listings count more likely to maintain higher availability throughout the year?"
      ]
    },
    {
      "cell_type": "markdown",
      "metadata": {
        "id": "FDmtCddKmskv"
      },
      "source": [
        "# Data Wrangling"
      ]
    },
    {
      "cell_type": "markdown",
      "metadata": {
        "id": "LjdfSoiglubi"
      },
      "source": [
        "Data wrangling, a crucial phase in the data analysis process, involves preparing and cleaning raw data to make it suitable for analysis. This involves various tasks such as handling missing values, removing duplicates, and transforming data into a consistent format. Effective data wrangling ensures that the data is reliable and ready for exploration, enabling meaningful insights to be derived from it.\n",
        "\n"
      ]
    },
    {
      "cell_type": "code",
      "source": [
        "import pandas as pd\n",
        "import numpy as np\n",
        "\n",
        "# Corrected file loading with a different encoding to handle the UnicodeDecodeError\n",
        "file_path = \"/content/1730285881-Airbnb_Open_Data.csv\"\n",
        "try:\n",
        "    # Attempt to read with 'latin-1' encoding\n",
        "    df = pd.read_csv(file_path, encoding='latin-1')\n",
        "    print(\"Data loaded successfully using 'latin-1' encoding.\")\n",
        "\n",
        "    # Display initial information and head\n",
        "    print(\"\\nData Information:\")\n",
        "    df.info()\n",
        "    print(\"\\nFirst 5 Rows:\")\n",
        "    print(df.head())\n",
        "\n",
        "except FileNotFoundError:\n",
        "    print(f\"Error: File '{file_path}' not found. Please check the file name and path.\")\n",
        "\n",
        "except Exception as e:\n",
        "    print(f\"An unexpected error occurred: {e}\")"
      ],
      "metadata": {
        "colab": {
          "base_uri": "https://localhost:8080/"
        },
        "id": "rJm1riKvXfg7",
        "outputId": "729648cc-1b17-4b30-db52-b568187b66bc"
      },
      "execution_count": 4,
      "outputs": [
        {
          "output_type": "stream",
          "name": "stdout",
          "text": [
            "Data loaded successfully using 'latin-1' encoding.\n",
            "\n",
            "Data Information:\n",
            "<class 'pandas.core.frame.DataFrame'>\n",
            "RangeIndex: 36653 entries, 0 to 36652\n",
            "Data columns (total 26 columns):\n",
            " #   Column                          Non-Null Count  Dtype  \n",
            "---  ------                          --------------  -----  \n",
            " 0   id                              36653 non-null  int64  \n",
            " 1   NAME                            36533 non-null  object \n",
            " 2   host id                         36653 non-null  int64  \n",
            " 3   host_identity_verified          36495 non-null  object \n",
            " 4   host name                       36421 non-null  object \n",
            " 5   neighbourhood group             36626 non-null  object \n",
            " 6   neighbourhood                   36637 non-null  object \n",
            " 7   lat                             36645 non-null  float64\n",
            " 8   long                            36645 non-null  object \n",
            " 9   country                         36565 non-null  object \n",
            " 10  country code                    36573 non-null  object \n",
            " 11  instant_bookable                36573 non-null  object \n",
            " 12  cancellation_policy             36602 non-null  object \n",
            " 13  room type                       36652 non-null  object \n",
            " 14  Construction year               36506 non-null  float64\n",
            " 15  price                           36554 non-null  object \n",
            " 16  service fee                     36566 non-null  object \n",
            " 17  minimum nights                  36455 non-null  float64\n",
            " 18  number of reviews               36618 non-null  float64\n",
            " 19  last review                     30795 non-null  object \n",
            " 20  reviews per month               30809 non-null  float64\n",
            " 21  review rate number              36529 non-null  float64\n",
            " 22  calculated host listings count  36569 non-null  float64\n",
            " 23  availability 365                36474 non-null  float64\n",
            " 24  house_rules                     24491 non-null  object \n",
            " 25  license                         1 non-null      object \n",
            "dtypes: float64(8), int64(2), object(16)\n",
            "memory usage: 7.3+ MB\n",
            "\n",
            "First 5 Rows:\n",
            "        id                                              NAME      host id  \\\n",
            "0  1001254                Clean & quiet apt home by the park  80014485718   \n",
            "1  1002102                             Skylit Midtown Castle  52335172823   \n",
            "2  1002403               THE VILLAGE OF HARLEM....NEW YORK !  78829239556   \n",
            "3  1002755                                               NaN  85098326012   \n",
            "4  1003689  Entire Apt: Spacious Studio/Loft by central park  92037596077   \n",
            "\n",
            "  host_identity_verified host name neighbourhood group neighbourhood  \\\n",
            "0            unconfirmed  Madaline            Brooklyn    Kensington   \n",
            "1               verified     Jenna           Manhattan       Midtown   \n",
            "2                    NaN     Elise           Manhattan        Harlem   \n",
            "3            unconfirmed     Garry            Brooklyn  Clinton Hill   \n",
            "4               verified    Lyndon           Manhattan   East Harlem   \n",
            "\n",
            "        lat      long        country  ... service fee minimum nights  \\\n",
            "0  40.64749 -73.97237  United States  ...       $193            10.0   \n",
            "1  40.75362 -73.98377  United States  ...        $28            30.0   \n",
            "2  40.80902  -73.9419  United States  ...       $124             3.0   \n",
            "3  40.68514 -73.95976  United States  ...        $74            30.0   \n",
            "4  40.79851 -73.94399  United States  ...        $41            10.0   \n",
            "\n",
            "  number of reviews last review  reviews per month review rate number  \\\n",
            "0               9.0  19-10-2021               0.21                4.0   \n",
            "1              45.0  21-05-2022               0.38                4.0   \n",
            "2               0.0         NaN                NaN                5.0   \n",
            "3             270.0  05-07-2019               4.64                4.0   \n",
            "4               9.0  19-11-2018               0.10                3.0   \n",
            "\n",
            "  calculated host listings count  availability 365  \\\n",
            "0                            6.0             286.0   \n",
            "1                            2.0             228.0   \n",
            "2                            1.0             352.0   \n",
            "3                            1.0             322.0   \n",
            "4                            1.0             289.0   \n",
            "\n",
            "                                         house_rules license  \n",
            "0  Clean up and treat the home the way you'd like...     NaN  \n",
            "1  Pet friendly but please confirm with me if the...     NaN  \n",
            "2  I encourage you to use my kitchen, cooking and...     NaN  \n",
            "3                                                NaN     NaN  \n",
            "4  Please no smoking in the house, porch or on th...     NaN  \n",
            "\n",
            "[5 rows x 26 columns]\n"
          ]
        },
        {
          "output_type": "stream",
          "name": "stderr",
          "text": [
            "/tmp/ipython-input-2738883733.py:8: DtypeWarning: Columns (8,25) have mixed types. Specify dtype option on import or set low_memory=False.\n",
            "  df = pd.read_csv(file_path, encoding='latin-1')\n"
          ]
        }
      ]
    },
    {
      "cell_type": "code",
      "execution_count": 1,
      "metadata": {
        "colab": {
          "base_uri": "https://localhost:8080/"
        },
        "id": "_EYI6Z7o7O3k",
        "outputId": "fb41d7aa-7958-4b05-837f-b54bf367a1cb"
      },
      "outputs": [
        {
          "output_type": "stream",
          "name": "stderr",
          "text": [
            "/tmp/ipython-input-412049584.py:8: DtypeWarning: Columns (25) have mixed types. Specify dtype option on import or set low_memory=False.\n",
            "  df = pd.read_csv(file_path, encoding='latin-1')\n"
          ]
        },
        {
          "output_type": "stream",
          "name": "stdout",
          "text": [
            "DataFrame 'df' loaded successfully.\n",
            "Initial data cleaning (columns and currency symbols) complete.\n",
            "--------------------------------------------------\n"
          ]
        }
      ],
      "source": [
        "import pandas as pd\n",
        "import numpy as np\n",
        "\n",
        "# --- CRITICAL: File Loading Step (Defines 'df') ---\n",
        "# Use the correct accessible file name and 'latin-1' encoding\n",
        "file_path = \"/content/1730285881-Airbnb_Open_Data.csv\"\n",
        "try:\n",
        "    df = pd.read_csv(file_path, encoding='latin-1')\n",
        "    print(\"DataFrame 'df' loaded successfully.\")\n",
        "except Exception as e:\n",
        "    print(f\"Error loading file: {e}. Please ensure the file is in your current directory.\")\n",
        "    exit()\n",
        "\n",
        "# 1. Standardize Column Names\n",
        "df.columns = df.columns.str.lower().str.replace(' ', '_')\n",
        "\n",
        "# 2. CRITICAL FIX: Clean 'price' and 'service_fee' columns\n",
        "# Remove '$' and ',' then convert to numeric, fixing the previous TypeError.\n",
        "columns_to_clean = ['price', 'service_fee']\n",
        "for col in columns_to_clean:\n",
        "    df[col] = df[col].astype(str).str.replace(r'[\\$,]', '', regex=True)\n",
        "    df[col] = pd.to_numeric(df[col], errors='coerce')\n",
        "\n",
        "print(\"Initial data cleaning (columns and currency symbols) complete.\")\n",
        "print(\"-\" * 50)"
      ]
    },
    {
      "cell_type": "code",
      "source": [
        "df"
      ],
      "metadata": {
        "colab": {
          "base_uri": "https://localhost:8080/",
          "height": 912
        },
        "id": "-0x9SwqpcbSO",
        "outputId": "d38ede3c-6f05-464c-f25a-320babd19a74"
      },
      "execution_count": 3,
      "outputs": [
        {
          "output_type": "execute_result",
          "data": {
            "text/plain": [
              "             id                                              name  \\\n",
              "0       1001254                Clean & quiet apt home by the park   \n",
              "1       1002102                             Skylit Midtown Castle   \n",
              "2       1002403               THE VILLAGE OF HARLEM....NEW YORK !   \n",
              "3       1002755                                               NaN   \n",
              "4       1003689  Entire Apt: Spacious Studio/Loft by central park   \n",
              "...         ...                                               ...   \n",
              "102594  6092437                        Spare room in Williamsburg   \n",
              "102595  6092990                     Best Location near Columbia U   \n",
              "102596  6093542                    Comfy, bright room in Brooklyn   \n",
              "102597  6094094                  Big Studio-One Stop from Midtown   \n",
              "102598  6094647                              585 sf Luxury Studio   \n",
              "\n",
              "            host_id host_identity_verified    host_name neighbourhood_group  \\\n",
              "0       80014485718            unconfirmed     Madaline            Brooklyn   \n",
              "1       52335172823               verified        Jenna           Manhattan   \n",
              "2       78829239556                    NaN        Elise           Manhattan   \n",
              "3       85098326012            unconfirmed        Garry            Brooklyn   \n",
              "4       92037596077               verified       Lyndon           Manhattan   \n",
              "...             ...                    ...          ...                 ...   \n",
              "102594  12312296767               verified         Krik            Brooklyn   \n",
              "102595  77864383453            unconfirmed        Mifan           Manhattan   \n",
              "102596  69050334417            unconfirmed        Megan            Brooklyn   \n",
              "102597  11160591270            unconfirmed  Christopher              Queens   \n",
              "102598  68170633372            unconfirmed      Rebecca           Manhattan   \n",
              "\n",
              "              neighbourhood       lat      long        country  ...  \\\n",
              "0                Kensington  40.64749 -73.97237  United States  ...   \n",
              "1                   Midtown  40.75362 -73.98377  United States  ...   \n",
              "2                    Harlem  40.80902 -73.94190  United States  ...   \n",
              "3              Clinton Hill  40.68514 -73.95976  United States  ...   \n",
              "4               East Harlem  40.79851 -73.94399  United States  ...   \n",
              "...                     ...       ...       ...            ...  ...   \n",
              "102594         Williamsburg  40.70862 -73.94651  United States  ...   \n",
              "102595  Morningside Heights  40.80460 -73.96545  United States  ...   \n",
              "102596           Park Slope  40.67505 -73.98045  United States  ...   \n",
              "102597     Long Island City  40.74989 -73.93777  United States  ...   \n",
              "102598      Upper West Side  40.76807 -73.98342  United States  ...   \n",
              "\n",
              "       service_fee minimum_nights number_of_reviews last_review  \\\n",
              "0            193.0           10.0               9.0  19-10-2021   \n",
              "1             28.0           30.0              45.0  21-05-2022   \n",
              "2            124.0            3.0               0.0         NaN   \n",
              "3             74.0           30.0             270.0  05-07-2019   \n",
              "4             41.0           10.0               9.0  19-11-2018   \n",
              "...            ...            ...               ...         ...   \n",
              "102594       169.0            1.0               0.0         NaN   \n",
              "102595       167.0            1.0               1.0  06-07-2015   \n",
              "102596       198.0            3.0               0.0         NaN   \n",
              "102597       109.0            2.0               5.0  11-10-2015   \n",
              "102598       206.0            1.0               0.0         NaN   \n",
              "\n",
              "        reviews_per_month  review_rate_number  calculated_host_listings_count  \\\n",
              "0                    0.21                 4.0                             6.0   \n",
              "1                    0.38                 4.0                             2.0   \n",
              "2                     NaN                 5.0                             1.0   \n",
              "3                    4.64                 4.0                             1.0   \n",
              "4                    0.10                 3.0                             1.0   \n",
              "...                   ...                 ...                             ...   \n",
              "102594                NaN                 3.0                             1.0   \n",
              "102595               0.02                 2.0                             2.0   \n",
              "102596                NaN                 5.0                             1.0   \n",
              "102597               0.10                 3.0                             1.0   \n",
              "102598                NaN                 3.0                             1.0   \n",
              "\n",
              "        availability_365                                        house_rules  \\\n",
              "0                  286.0  Clean up and treat the home the way you'd like...   \n",
              "1                  228.0  Pet friendly but please confirm with me if the...   \n",
              "2                  352.0  I encourage you to use my kitchen, cooking and...   \n",
              "3                  322.0                                                NaN   \n",
              "4                  289.0  Please no smoking in the house, porch or on th...   \n",
              "...                  ...                                                ...   \n",
              "102594             227.0  No Smoking No Parties or Events of any kind Pl...   \n",
              "102595             395.0  House rules: Guests agree to the following ter...   \n",
              "102596             342.0                                                NaN   \n",
              "102597             386.0                                                NaN   \n",
              "102598              69.0                                                NaN   \n",
              "\n",
              "       license  \n",
              "0          NaN  \n",
              "1          NaN  \n",
              "2          NaN  \n",
              "3          NaN  \n",
              "4          NaN  \n",
              "...        ...  \n",
              "102594     NaN  \n",
              "102595     NaN  \n",
              "102596     NaN  \n",
              "102597     NaN  \n",
              "102598     NaN  \n",
              "\n",
              "[102599 rows x 26 columns]"
            ],
            "text/html": [
              "\n",
              "  <div id=\"df-fa49a84b-2b96-4ca7-b09b-03b925c2ae87\" class=\"colab-df-container\">\n",
              "    <div>\n",
              "<style scoped>\n",
              "    .dataframe tbody tr th:only-of-type {\n",
              "        vertical-align: middle;\n",
              "    }\n",
              "\n",
              "    .dataframe tbody tr th {\n",
              "        vertical-align: top;\n",
              "    }\n",
              "\n",
              "    .dataframe thead th {\n",
              "        text-align: right;\n",
              "    }\n",
              "</style>\n",
              "<table border=\"1\" class=\"dataframe\">\n",
              "  <thead>\n",
              "    <tr style=\"text-align: right;\">\n",
              "      <th></th>\n",
              "      <th>id</th>\n",
              "      <th>name</th>\n",
              "      <th>host_id</th>\n",
              "      <th>host_identity_verified</th>\n",
              "      <th>host_name</th>\n",
              "      <th>neighbourhood_group</th>\n",
              "      <th>neighbourhood</th>\n",
              "      <th>lat</th>\n",
              "      <th>long</th>\n",
              "      <th>country</th>\n",
              "      <th>...</th>\n",
              "      <th>service_fee</th>\n",
              "      <th>minimum_nights</th>\n",
              "      <th>number_of_reviews</th>\n",
              "      <th>last_review</th>\n",
              "      <th>reviews_per_month</th>\n",
              "      <th>review_rate_number</th>\n",
              "      <th>calculated_host_listings_count</th>\n",
              "      <th>availability_365</th>\n",
              "      <th>house_rules</th>\n",
              "      <th>license</th>\n",
              "    </tr>\n",
              "  </thead>\n",
              "  <tbody>\n",
              "    <tr>\n",
              "      <th>0</th>\n",
              "      <td>1001254</td>\n",
              "      <td>Clean &amp; quiet apt home by the park</td>\n",
              "      <td>80014485718</td>\n",
              "      <td>unconfirmed</td>\n",
              "      <td>Madaline</td>\n",
              "      <td>Brooklyn</td>\n",
              "      <td>Kensington</td>\n",
              "      <td>40.64749</td>\n",
              "      <td>-73.97237</td>\n",
              "      <td>United States</td>\n",
              "      <td>...</td>\n",
              "      <td>193.0</td>\n",
              "      <td>10.0</td>\n",
              "      <td>9.0</td>\n",
              "      <td>19-10-2021</td>\n",
              "      <td>0.21</td>\n",
              "      <td>4.0</td>\n",
              "      <td>6.0</td>\n",
              "      <td>286.0</td>\n",
              "      <td>Clean up and treat the home the way you'd like...</td>\n",
              "      <td>NaN</td>\n",
              "    </tr>\n",
              "    <tr>\n",
              "      <th>1</th>\n",
              "      <td>1002102</td>\n",
              "      <td>Skylit Midtown Castle</td>\n",
              "      <td>52335172823</td>\n",
              "      <td>verified</td>\n",
              "      <td>Jenna</td>\n",
              "      <td>Manhattan</td>\n",
              "      <td>Midtown</td>\n",
              "      <td>40.75362</td>\n",
              "      <td>-73.98377</td>\n",
              "      <td>United States</td>\n",
              "      <td>...</td>\n",
              "      <td>28.0</td>\n",
              "      <td>30.0</td>\n",
              "      <td>45.0</td>\n",
              "      <td>21-05-2022</td>\n",
              "      <td>0.38</td>\n",
              "      <td>4.0</td>\n",
              "      <td>2.0</td>\n",
              "      <td>228.0</td>\n",
              "      <td>Pet friendly but please confirm with me if the...</td>\n",
              "      <td>NaN</td>\n",
              "    </tr>\n",
              "    <tr>\n",
              "      <th>2</th>\n",
              "      <td>1002403</td>\n",
              "      <td>THE VILLAGE OF HARLEM....NEW YORK !</td>\n",
              "      <td>78829239556</td>\n",
              "      <td>NaN</td>\n",
              "      <td>Elise</td>\n",
              "      <td>Manhattan</td>\n",
              "      <td>Harlem</td>\n",
              "      <td>40.80902</td>\n",
              "      <td>-73.94190</td>\n",
              "      <td>United States</td>\n",
              "      <td>...</td>\n",
              "      <td>124.0</td>\n",
              "      <td>3.0</td>\n",
              "      <td>0.0</td>\n",
              "      <td>NaN</td>\n",
              "      <td>NaN</td>\n",
              "      <td>5.0</td>\n",
              "      <td>1.0</td>\n",
              "      <td>352.0</td>\n",
              "      <td>I encourage you to use my kitchen, cooking and...</td>\n",
              "      <td>NaN</td>\n",
              "    </tr>\n",
              "    <tr>\n",
              "      <th>3</th>\n",
              "      <td>1002755</td>\n",
              "      <td>NaN</td>\n",
              "      <td>85098326012</td>\n",
              "      <td>unconfirmed</td>\n",
              "      <td>Garry</td>\n",
              "      <td>Brooklyn</td>\n",
              "      <td>Clinton Hill</td>\n",
              "      <td>40.68514</td>\n",
              "      <td>-73.95976</td>\n",
              "      <td>United States</td>\n",
              "      <td>...</td>\n",
              "      <td>74.0</td>\n",
              "      <td>30.0</td>\n",
              "      <td>270.0</td>\n",
              "      <td>05-07-2019</td>\n",
              "      <td>4.64</td>\n",
              "      <td>4.0</td>\n",
              "      <td>1.0</td>\n",
              "      <td>322.0</td>\n",
              "      <td>NaN</td>\n",
              "      <td>NaN</td>\n",
              "    </tr>\n",
              "    <tr>\n",
              "      <th>4</th>\n",
              "      <td>1003689</td>\n",
              "      <td>Entire Apt: Spacious Studio/Loft by central park</td>\n",
              "      <td>92037596077</td>\n",
              "      <td>verified</td>\n",
              "      <td>Lyndon</td>\n",
              "      <td>Manhattan</td>\n",
              "      <td>East Harlem</td>\n",
              "      <td>40.79851</td>\n",
              "      <td>-73.94399</td>\n",
              "      <td>United States</td>\n",
              "      <td>...</td>\n",
              "      <td>41.0</td>\n",
              "      <td>10.0</td>\n",
              "      <td>9.0</td>\n",
              "      <td>19-11-2018</td>\n",
              "      <td>0.10</td>\n",
              "      <td>3.0</td>\n",
              "      <td>1.0</td>\n",
              "      <td>289.0</td>\n",
              "      <td>Please no smoking in the house, porch or on th...</td>\n",
              "      <td>NaN</td>\n",
              "    </tr>\n",
              "    <tr>\n",
              "      <th>...</th>\n",
              "      <td>...</td>\n",
              "      <td>...</td>\n",
              "      <td>...</td>\n",
              "      <td>...</td>\n",
              "      <td>...</td>\n",
              "      <td>...</td>\n",
              "      <td>...</td>\n",
              "      <td>...</td>\n",
              "      <td>...</td>\n",
              "      <td>...</td>\n",
              "      <td>...</td>\n",
              "      <td>...</td>\n",
              "      <td>...</td>\n",
              "      <td>...</td>\n",
              "      <td>...</td>\n",
              "      <td>...</td>\n",
              "      <td>...</td>\n",
              "      <td>...</td>\n",
              "      <td>...</td>\n",
              "      <td>...</td>\n",
              "      <td>...</td>\n",
              "    </tr>\n",
              "    <tr>\n",
              "      <th>102594</th>\n",
              "      <td>6092437</td>\n",
              "      <td>Spare room in Williamsburg</td>\n",
              "      <td>12312296767</td>\n",
              "      <td>verified</td>\n",
              "      <td>Krik</td>\n",
              "      <td>Brooklyn</td>\n",
              "      <td>Williamsburg</td>\n",
              "      <td>40.70862</td>\n",
              "      <td>-73.94651</td>\n",
              "      <td>United States</td>\n",
              "      <td>...</td>\n",
              "      <td>169.0</td>\n",
              "      <td>1.0</td>\n",
              "      <td>0.0</td>\n",
              "      <td>NaN</td>\n",
              "      <td>NaN</td>\n",
              "      <td>3.0</td>\n",
              "      <td>1.0</td>\n",
              "      <td>227.0</td>\n",
              "      <td>No Smoking No Parties or Events of any kind Pl...</td>\n",
              "      <td>NaN</td>\n",
              "    </tr>\n",
              "    <tr>\n",
              "      <th>102595</th>\n",
              "      <td>6092990</td>\n",
              "      <td>Best Location near Columbia U</td>\n",
              "      <td>77864383453</td>\n",
              "      <td>unconfirmed</td>\n",
              "      <td>Mifan</td>\n",
              "      <td>Manhattan</td>\n",
              "      <td>Morningside Heights</td>\n",
              "      <td>40.80460</td>\n",
              "      <td>-73.96545</td>\n",
              "      <td>United States</td>\n",
              "      <td>...</td>\n",
              "      <td>167.0</td>\n",
              "      <td>1.0</td>\n",
              "      <td>1.0</td>\n",
              "      <td>06-07-2015</td>\n",
              "      <td>0.02</td>\n",
              "      <td>2.0</td>\n",
              "      <td>2.0</td>\n",
              "      <td>395.0</td>\n",
              "      <td>House rules: Guests agree to the following ter...</td>\n",
              "      <td>NaN</td>\n",
              "    </tr>\n",
              "    <tr>\n",
              "      <th>102596</th>\n",
              "      <td>6093542</td>\n",
              "      <td>Comfy, bright room in Brooklyn</td>\n",
              "      <td>69050334417</td>\n",
              "      <td>unconfirmed</td>\n",
              "      <td>Megan</td>\n",
              "      <td>Brooklyn</td>\n",
              "      <td>Park Slope</td>\n",
              "      <td>40.67505</td>\n",
              "      <td>-73.98045</td>\n",
              "      <td>United States</td>\n",
              "      <td>...</td>\n",
              "      <td>198.0</td>\n",
              "      <td>3.0</td>\n",
              "      <td>0.0</td>\n",
              "      <td>NaN</td>\n",
              "      <td>NaN</td>\n",
              "      <td>5.0</td>\n",
              "      <td>1.0</td>\n",
              "      <td>342.0</td>\n",
              "      <td>NaN</td>\n",
              "      <td>NaN</td>\n",
              "    </tr>\n",
              "    <tr>\n",
              "      <th>102597</th>\n",
              "      <td>6094094</td>\n",
              "      <td>Big Studio-One Stop from Midtown</td>\n",
              "      <td>11160591270</td>\n",
              "      <td>unconfirmed</td>\n",
              "      <td>Christopher</td>\n",
              "      <td>Queens</td>\n",
              "      <td>Long Island City</td>\n",
              "      <td>40.74989</td>\n",
              "      <td>-73.93777</td>\n",
              "      <td>United States</td>\n",
              "      <td>...</td>\n",
              "      <td>109.0</td>\n",
              "      <td>2.0</td>\n",
              "      <td>5.0</td>\n",
              "      <td>11-10-2015</td>\n",
              "      <td>0.10</td>\n",
              "      <td>3.0</td>\n",
              "      <td>1.0</td>\n",
              "      <td>386.0</td>\n",
              "      <td>NaN</td>\n",
              "      <td>NaN</td>\n",
              "    </tr>\n",
              "    <tr>\n",
              "      <th>102598</th>\n",
              "      <td>6094647</td>\n",
              "      <td>585 sf Luxury Studio</td>\n",
              "      <td>68170633372</td>\n",
              "      <td>unconfirmed</td>\n",
              "      <td>Rebecca</td>\n",
              "      <td>Manhattan</td>\n",
              "      <td>Upper West Side</td>\n",
              "      <td>40.76807</td>\n",
              "      <td>-73.98342</td>\n",
              "      <td>United States</td>\n",
              "      <td>...</td>\n",
              "      <td>206.0</td>\n",
              "      <td>1.0</td>\n",
              "      <td>0.0</td>\n",
              "      <td>NaN</td>\n",
              "      <td>NaN</td>\n",
              "      <td>3.0</td>\n",
              "      <td>1.0</td>\n",
              "      <td>69.0</td>\n",
              "      <td>NaN</td>\n",
              "      <td>NaN</td>\n",
              "    </tr>\n",
              "  </tbody>\n",
              "</table>\n",
              "<p>102599 rows × 26 columns</p>\n",
              "</div>\n",
              "    <div class=\"colab-df-buttons\">\n",
              "\n",
              "  <div class=\"colab-df-container\">\n",
              "    <button class=\"colab-df-convert\" onclick=\"convertToInteractive('df-fa49a84b-2b96-4ca7-b09b-03b925c2ae87')\"\n",
              "            title=\"Convert this dataframe to an interactive table.\"\n",
              "            style=\"display:none;\">\n",
              "\n",
              "  <svg xmlns=\"http://www.w3.org/2000/svg\" height=\"24px\" viewBox=\"0 -960 960 960\">\n",
              "    <path d=\"M120-120v-720h720v720H120Zm60-500h600v-160H180v160Zm220 220h160v-160H400v160Zm0 220h160v-160H400v160ZM180-400h160v-160H180v160Zm440 0h160v-160H620v160ZM180-180h160v-160H180v160Zm440 0h160v-160H620v160Z\"/>\n",
              "  </svg>\n",
              "    </button>\n",
              "\n",
              "  <style>\n",
              "    .colab-df-container {\n",
              "      display:flex;\n",
              "      gap: 12px;\n",
              "    }\n",
              "\n",
              "    .colab-df-convert {\n",
              "      background-color: #E8F0FE;\n",
              "      border: none;\n",
              "      border-radius: 50%;\n",
              "      cursor: pointer;\n",
              "      display: none;\n",
              "      fill: #1967D2;\n",
              "      height: 32px;\n",
              "      padding: 0 0 0 0;\n",
              "      width: 32px;\n",
              "    }\n",
              "\n",
              "    .colab-df-convert:hover {\n",
              "      background-color: #E2EBFA;\n",
              "      box-shadow: 0px 1px 2px rgba(60, 64, 67, 0.3), 0px 1px 3px 1px rgba(60, 64, 67, 0.15);\n",
              "      fill: #174EA6;\n",
              "    }\n",
              "\n",
              "    .colab-df-buttons div {\n",
              "      margin-bottom: 4px;\n",
              "    }\n",
              "\n",
              "    [theme=dark] .colab-df-convert {\n",
              "      background-color: #3B4455;\n",
              "      fill: #D2E3FC;\n",
              "    }\n",
              "\n",
              "    [theme=dark] .colab-df-convert:hover {\n",
              "      background-color: #434B5C;\n",
              "      box-shadow: 0px 1px 3px 1px rgba(0, 0, 0, 0.15);\n",
              "      filter: drop-shadow(0px 1px 2px rgba(0, 0, 0, 0.3));\n",
              "      fill: #FFFFFF;\n",
              "    }\n",
              "  </style>\n",
              "\n",
              "    <script>\n",
              "      const buttonEl =\n",
              "        document.querySelector('#df-fa49a84b-2b96-4ca7-b09b-03b925c2ae87 button.colab-df-convert');\n",
              "      buttonEl.style.display =\n",
              "        google.colab.kernel.accessAllowed ? 'block' : 'none';\n",
              "\n",
              "      async function convertToInteractive(key) {\n",
              "        const element = document.querySelector('#df-fa49a84b-2b96-4ca7-b09b-03b925c2ae87');\n",
              "        const dataTable =\n",
              "          await google.colab.kernel.invokeFunction('convertToInteractive',\n",
              "                                                    [key], {});\n",
              "        if (!dataTable) return;\n",
              "\n",
              "        const docLinkHtml = 'Like what you see? Visit the ' +\n",
              "          '<a target=\"_blank\" href=https://colab.research.google.com/notebooks/data_table.ipynb>data table notebook</a>'\n",
              "          + ' to learn more about interactive tables.';\n",
              "        element.innerHTML = '';\n",
              "        dataTable['output_type'] = 'display_data';\n",
              "        await google.colab.output.renderOutput(dataTable, element);\n",
              "        const docLink = document.createElement('div');\n",
              "        docLink.innerHTML = docLinkHtml;\n",
              "        element.appendChild(docLink);\n",
              "      }\n",
              "    </script>\n",
              "  </div>\n",
              "\n",
              "\n",
              "    <div id=\"df-a7e493c7-fb42-47ec-810a-b0b294beebcd\">\n",
              "      <button class=\"colab-df-quickchart\" onclick=\"quickchart('df-a7e493c7-fb42-47ec-810a-b0b294beebcd')\"\n",
              "                title=\"Suggest charts\"\n",
              "                style=\"display:none;\">\n",
              "\n",
              "<svg xmlns=\"http://www.w3.org/2000/svg\" height=\"24px\"viewBox=\"0 0 24 24\"\n",
              "     width=\"24px\">\n",
              "    <g>\n",
              "        <path d=\"M19 3H5c-1.1 0-2 .9-2 2v14c0 1.1.9 2 2 2h14c1.1 0 2-.9 2-2V5c0-1.1-.9-2-2-2zM9 17H7v-7h2v7zm4 0h-2V7h2v10zm4 0h-2v-4h2v4z\"/>\n",
              "    </g>\n",
              "</svg>\n",
              "      </button>\n",
              "\n",
              "<style>\n",
              "  .colab-df-quickchart {\n",
              "      --bg-color: #E8F0FE;\n",
              "      --fill-color: #1967D2;\n",
              "      --hover-bg-color: #E2EBFA;\n",
              "      --hover-fill-color: #174EA6;\n",
              "      --disabled-fill-color: #AAA;\n",
              "      --disabled-bg-color: #DDD;\n",
              "  }\n",
              "\n",
              "  [theme=dark] .colab-df-quickchart {\n",
              "      --bg-color: #3B4455;\n",
              "      --fill-color: #D2E3FC;\n",
              "      --hover-bg-color: #434B5C;\n",
              "      --hover-fill-color: #FFFFFF;\n",
              "      --disabled-bg-color: #3B4455;\n",
              "      --disabled-fill-color: #666;\n",
              "  }\n",
              "\n",
              "  .colab-df-quickchart {\n",
              "    background-color: var(--bg-color);\n",
              "    border: none;\n",
              "    border-radius: 50%;\n",
              "    cursor: pointer;\n",
              "    display: none;\n",
              "    fill: var(--fill-color);\n",
              "    height: 32px;\n",
              "    padding: 0;\n",
              "    width: 32px;\n",
              "  }\n",
              "\n",
              "  .colab-df-quickchart:hover {\n",
              "    background-color: var(--hover-bg-color);\n",
              "    box-shadow: 0 1px 2px rgba(60, 64, 67, 0.3), 0 1px 3px 1px rgba(60, 64, 67, 0.15);\n",
              "    fill: var(--button-hover-fill-color);\n",
              "  }\n",
              "\n",
              "  .colab-df-quickchart-complete:disabled,\n",
              "  .colab-df-quickchart-complete:disabled:hover {\n",
              "    background-color: var(--disabled-bg-color);\n",
              "    fill: var(--disabled-fill-color);\n",
              "    box-shadow: none;\n",
              "  }\n",
              "\n",
              "  .colab-df-spinner {\n",
              "    border: 2px solid var(--fill-color);\n",
              "    border-color: transparent;\n",
              "    border-bottom-color: var(--fill-color);\n",
              "    animation:\n",
              "      spin 1s steps(1) infinite;\n",
              "  }\n",
              "\n",
              "  @keyframes spin {\n",
              "    0% {\n",
              "      border-color: transparent;\n",
              "      border-bottom-color: var(--fill-color);\n",
              "      border-left-color: var(--fill-color);\n",
              "    }\n",
              "    20% {\n",
              "      border-color: transparent;\n",
              "      border-left-color: var(--fill-color);\n",
              "      border-top-color: var(--fill-color);\n",
              "    }\n",
              "    30% {\n",
              "      border-color: transparent;\n",
              "      border-left-color: var(--fill-color);\n",
              "      border-top-color: var(--fill-color);\n",
              "      border-right-color: var(--fill-color);\n",
              "    }\n",
              "    40% {\n",
              "      border-color: transparent;\n",
              "      border-right-color: var(--fill-color);\n",
              "      border-top-color: var(--fill-color);\n",
              "    }\n",
              "    60% {\n",
              "      border-color: transparent;\n",
              "      border-right-color: var(--fill-color);\n",
              "    }\n",
              "    80% {\n",
              "      border-color: transparent;\n",
              "      border-right-color: var(--fill-color);\n",
              "      border-bottom-color: var(--fill-color);\n",
              "    }\n",
              "    90% {\n",
              "      border-color: transparent;\n",
              "      border-bottom-color: var(--fill-color);\n",
              "    }\n",
              "  }\n",
              "</style>\n",
              "\n",
              "      <script>\n",
              "        async function quickchart(key) {\n",
              "          const quickchartButtonEl =\n",
              "            document.querySelector('#' + key + ' button');\n",
              "          quickchartButtonEl.disabled = true;  // To prevent multiple clicks.\n",
              "          quickchartButtonEl.classList.add('colab-df-spinner');\n",
              "          try {\n",
              "            const charts = await google.colab.kernel.invokeFunction(\n",
              "                'suggestCharts', [key], {});\n",
              "          } catch (error) {\n",
              "            console.error('Error during call to suggestCharts:', error);\n",
              "          }\n",
              "          quickchartButtonEl.classList.remove('colab-df-spinner');\n",
              "          quickchartButtonEl.classList.add('colab-df-quickchart-complete');\n",
              "        }\n",
              "        (() => {\n",
              "          let quickchartButtonEl =\n",
              "            document.querySelector('#df-a7e493c7-fb42-47ec-810a-b0b294beebcd button');\n",
              "          quickchartButtonEl.style.display =\n",
              "            google.colab.kernel.accessAllowed ? 'block' : 'none';\n",
              "        })();\n",
              "      </script>\n",
              "    </div>\n",
              "\n",
              "  <div id=\"id_e9dd2428-2259-4ba9-bcb6-127f05e93555\">\n",
              "    <style>\n",
              "      .colab-df-generate {\n",
              "        background-color: #E8F0FE;\n",
              "        border: none;\n",
              "        border-radius: 50%;\n",
              "        cursor: pointer;\n",
              "        display: none;\n",
              "        fill: #1967D2;\n",
              "        height: 32px;\n",
              "        padding: 0 0 0 0;\n",
              "        width: 32px;\n",
              "      }\n",
              "\n",
              "      .colab-df-generate:hover {\n",
              "        background-color: #E2EBFA;\n",
              "        box-shadow: 0px 1px 2px rgba(60, 64, 67, 0.3), 0px 1px 3px 1px rgba(60, 64, 67, 0.15);\n",
              "        fill: #174EA6;\n",
              "      }\n",
              "\n",
              "      [theme=dark] .colab-df-generate {\n",
              "        background-color: #3B4455;\n",
              "        fill: #D2E3FC;\n",
              "      }\n",
              "\n",
              "      [theme=dark] .colab-df-generate:hover {\n",
              "        background-color: #434B5C;\n",
              "        box-shadow: 0px 1px 3px 1px rgba(0, 0, 0, 0.15);\n",
              "        filter: drop-shadow(0px 1px 2px rgba(0, 0, 0, 0.3));\n",
              "        fill: #FFFFFF;\n",
              "      }\n",
              "    </style>\n",
              "    <button class=\"colab-df-generate\" onclick=\"generateWithVariable('df')\"\n",
              "            title=\"Generate code using this dataframe.\"\n",
              "            style=\"display:none;\">\n",
              "\n",
              "  <svg xmlns=\"http://www.w3.org/2000/svg\" height=\"24px\"viewBox=\"0 0 24 24\"\n",
              "       width=\"24px\">\n",
              "    <path d=\"M7,19H8.4L18.45,9,17,7.55,7,17.6ZM5,21V16.75L18.45,3.32a2,2,0,0,1,2.83,0l1.4,1.43a1.91,1.91,0,0,1,.58,1.4,1.91,1.91,0,0,1-.58,1.4L9.25,21ZM18.45,9,17,7.55Zm-12,3A5.31,5.31,0,0,0,4.9,8.1,5.31,5.31,0,0,0,1,6.5,5.31,5.31,0,0,0,4.9,4.9,5.31,5.31,0,0,0,6.5,1,5.31,5.31,0,0,0,8.1,4.9,5.31,5.31,0,0,0,12,6.5,5.46,5.46,0,0,0,6.5,12Z\"/>\n",
              "  </svg>\n",
              "    </button>\n",
              "    <script>\n",
              "      (() => {\n",
              "      const buttonEl =\n",
              "        document.querySelector('#id_e9dd2428-2259-4ba9-bcb6-127f05e93555 button.colab-df-generate');\n",
              "      buttonEl.style.display =\n",
              "        google.colab.kernel.accessAllowed ? 'block' : 'none';\n",
              "\n",
              "      buttonEl.onclick = () => {\n",
              "        google.colab.notebook.generateWithVariable('df');\n",
              "      }\n",
              "      })();\n",
              "    </script>\n",
              "  </div>\n",
              "\n",
              "    </div>\n",
              "  </div>\n"
            ],
            "application/vnd.google.colaboratory.intrinsic+json": {
              "type": "dataframe",
              "variable_name": "df"
            }
          },
          "metadata": {},
          "execution_count": 3
        }
      ]
    },
    {
      "cell_type": "code",
      "source": [
        "# --- 2. Final Cleaning  ---\n",
        "\n",
        "# Columns essential for the analysis\n",
        "key_cols = [\n",
        "    'neighbourhood_group', 'room_type', 'construction_year', 'price',\n",
        "    'service_fee', 'host_identity_verified', 'review_rate_number',\n",
        "    'calculated_host_listings_count', 'availability_365'\n",
        "]\n",
        "\n",
        "# 3. Drop rows with NaN values in the key columns\n",
        "df_cleaned = df.dropna(subset=key_cols).copy()\n",
        "\n",
        "# 4. Convert float columns to integer\n",
        "int_cols = [\n",
        "    'construction_year', 'review_rate_number', 'calculated_host_listings_count',\n",
        "    'availability_365'\n",
        "]\n",
        "df_cleaned[int_cols] = df_cleaned[int_cols].astype(int)\n",
        "\n",
        "# 5. Handle Data Consistency (Drop 'brookln' typo)\n",
        "df_cleaned = df_cleaned[df_cleaned['neighbourhood_group'] != 'brookln']\n",
        "\n",
        "print(\"Final cleaning complete.\")\n",
        "print(f\"Final DataFrame 'df_cleaned' is defined with {df_cleaned.shape[0]} records.\")\n",
        "print(\"-\" * 50)\n"
      ],
      "metadata": {
        "colab": {
          "base_uri": "https://localhost:8080/"
        },
        "id": "rRINjC9OcWoH",
        "outputId": "03ebfa18-c01a-436d-be2c-5c5f8b97e984"
      },
      "execution_count": 4,
      "outputs": [
        {
          "output_type": "stream",
          "name": "stdout",
          "text": [
            "Final cleaning complete.\n",
            "Final DataFrame 'df_cleaned' is defined with 100669 records.\n",
            "--------------------------------------------------\n"
          ]
        }
      ]
    },
    {
      "cell_type": "code",
      "source": [
        "# Q1: What are the different property types in the Dataset?\n",
        "property_types = df_cleaned['room_type'].value_counts()\n",
        "print(\"Q1: Different Property Types:\")\n",
        "print(property_types)\n",
        "print(\"-\" * 50)"
      ],
      "metadata": {
        "colab": {
          "base_uri": "https://localhost:8080/"
        },
        "id": "CkuNOHbydvrx",
        "outputId": "d7f9f2e2-3783-4c7e-eca6-7c3a33fa7de4"
      },
      "execution_count": 5,
      "outputs": [
        {
          "output_type": "stream",
          "name": "stdout",
          "text": [
            "Q1: Different Property Types:\n",
            "room_type\n",
            "Entire home/apt    52731\n",
            "Private room       45647\n",
            "Shared room         2177\n",
            "Hotel room           114\n",
            "Name: count, dtype: int64\n",
            "--------------------------------------------------\n"
          ]
        }
      ]
    },
    {
      "cell_type": "code",
      "source": [
        "\n",
        "# Q2 & Q3: Listings count and average price by Neighbourhood Group\n",
        "neighborhood_analysis = df_cleaned.groupby('neighbourhood_group').agg(\n",
        "    listing_count=('id', 'count'),\n",
        "    average_price=('price', 'mean')\n",
        ").reset_index()\n",
        "neighborhood_analysis_sorted_count = neighborhood_analysis.sort_values('listing_count', ascending=False)\n",
        "neighborhood_analysis_sorted_price = neighborhood_analysis.sort_values('average_price', ascending=False)\n",
        "\n",
        "print(\"Q2 & Q3: Neighborhood Group Analysis:\")\n",
        "print(neighborhood_analysis.round(2))\n",
        "print(\"-\" * 50)\n"
      ],
      "metadata": {
        "colab": {
          "base_uri": "https://localhost:8080/"
        },
        "id": "20TdJPAXdzUR",
        "outputId": "5c893463-9295-44c6-8ddc-0c3d4e4adff6"
      },
      "execution_count": 6,
      "outputs": [
        {
          "output_type": "stream",
          "name": "stdout",
          "text": [
            "Q2 & Q3: Neighborhood Group Analysis:\n",
            "  neighbourhood_group  listing_count  average_price\n",
            "0               Bronx           2650         630.55\n",
            "1            Brooklyn          41058         626.24\n",
            "2           Manhattan          42983         622.66\n",
            "3              Queens          13039         630.01\n",
            "4       Staten Island            939         623.46\n",
            "--------------------------------------------------\n"
          ]
        }
      ]
    },
    {
      "cell_type": "code",
      "source": [
        "# Q4: Correlation between Construction Year and Price\n",
        "q4_correlation = df_cleaned['construction_year'].corr(df_cleaned['price'])\n",
        "print(f\"Q4: Correlation (Construction Year vs. Price): {q4_correlation:.4f}\")\n",
        "print(\"-\" * 50)"
      ],
      "metadata": {
        "colab": {
          "base_uri": "https://localhost:8080/"
        },
        "id": "xCw4Wg_edrXp",
        "outputId": "303cc51a-a8c8-4baf-e8d4-6afb337edb0c"
      },
      "execution_count": 7,
      "outputs": [
        {
          "output_type": "stream",
          "name": "stdout",
          "text": [
            "Q4: Correlation (Construction Year vs. Price): -0.0038\n",
            "--------------------------------------------------\n"
          ]
        }
      ]
    },
    {
      "cell_type": "code",
      "source": [
        "# Q5: Top 10 Hosts by Listing Count\n",
        "top_hosts = df_cleaned.groupby('host_name')['id'].count().nlargest(10).reset_index(name='total_listings')\n",
        "print(\"Q5: Top 10 Hosts by Listing Count:\")\n",
        "print(top_hosts)\n",
        "print(\"-\" * 50)"
      ],
      "metadata": {
        "colab": {
          "base_uri": "https://localhost:8080/"
        },
        "id": "Xw1HyDd7Y5fd",
        "outputId": "0a478654-71ec-4e99-ab7e-20f18d360123"
      },
      "execution_count": 8,
      "outputs": [
        {
          "output_type": "stream",
          "name": "stdout",
          "text": [
            "Q5: Top 10 Hosts by Listing Count:\n",
            "      host_name  total_listings\n",
            "0       Michael             865\n",
            "1         David             753\n",
            "2          John             573\n",
            "3          Alex             537\n",
            "4  Sonder (NYC)             513\n",
            "5        Daniel             459\n",
            "6         Karen             432\n",
            "7         Sarah             431\n",
            "8         Maria             417\n",
            "9          Anna             394\n",
            "--------------------------------------------------\n"
          ]
        }
      ]
    },
    {
      "cell_type": "code",
      "source": [
        "# Q7: Correlation between Price and Service Fee\n",
        "q7_correlation = df_cleaned['price'].corr(df_cleaned['service_fee'])\n",
        "print(f\"Q7: Correlation (Price vs. Service Fee): {q7_correlation:.4f}\")\n",
        "print(\"-\" * 50)"
      ],
      "metadata": {
        "colab": {
          "base_uri": "https://localhost:8080/"
        },
        "id": "dd-BArY7d7tF",
        "outputId": "563d2a07-d2f8-4228-f5cb-4db1cf6c0a13"
      },
      "execution_count": 9,
      "outputs": [
        {
          "output_type": "stream",
          "name": "stdout",
          "text": [
            "Q7: Correlation (Price vs. Service Fee): 1.0000\n",
            "--------------------------------------------------\n"
          ]
        }
      ]
    },
    {
      "cell_type": "code",
      "source": [
        "# Q6, Q8, Q9: Review and Availability Analysis\n",
        "q6_review_rate = df_cleaned.groupby('host_identity_verified')['review_rate_number'].mean().reset_index(name='average_review_rate')\n",
        "print(\"Q6: Average Review Rate by Host Identity Verification:\")\n",
        "print(q6_review_rate.round(2))\n",
        "print(\"-\" * 50)"
      ],
      "metadata": {
        "colab": {
          "base_uri": "https://localhost:8080/"
        },
        "id": "BE1Bd0a1d_wY",
        "outputId": "b4609442-bf48-42ba-ec48-efef9d459236"
      },
      "execution_count": 10,
      "outputs": [
        {
          "output_type": "stream",
          "name": "stdout",
          "text": [
            "Q6: Average Review Rate by Host Identity Verification:\n",
            "  host_identity_verified  average_review_rate\n",
            "0            unconfirmed                 3.27\n",
            "1               verified                 3.29\n",
            "--------------------------------------------------\n"
          ]
        }
      ]
    },
    {
      "cell_type": "code",
      "source": [
        "# Q8: Average Review Rate\n",
        "overall_avg_review_rate = df_cleaned['review_rate_number'].mean()\n",
        "print(f\"Q8-1: Overall Average Review Rate: {overall_avg_review_rate:.2f}\")\n",
        "q8_by_group = df_cleaned.groupby('neighbourhood_group')['review_rate_number'].mean().reset_index(name='average_review_rate')\n",
        "print(\"\\nQ8-2: Average Review Rate by Neighbourhood Group (Sorted):\")\n",
        "print(q8_by_group.sort_values('average_review_rate', ascending=False).round(2))\n",
        "q8_by_room = df_cleaned.groupby('room_type')['review_rate_number'].mean().reset_index(name='average_review_rate')\n",
        "print(\"\\nQ8-3: Average Review Rate by Room Type (Sorted):\")\n",
        "print(q8_by_room.sort_values('average_review_rate', ascending=False).round(2))\n",
        "print(\"-\" * 50)"
      ],
      "metadata": {
        "colab": {
          "base_uri": "https://localhost:8080/"
        },
        "id": "mEdFe9MneEKr",
        "outputId": "89eef0b8-0f82-4327-e056-326d1bce554e"
      },
      "execution_count": 11,
      "outputs": [
        {
          "output_type": "stream",
          "name": "stdout",
          "text": [
            "Q8-1: Overall Average Review Rate: 3.28\n",
            "\n",
            "Q8-2: Average Review Rate by Neighbourhood Group (Sorted):\n",
            "  neighbourhood_group  average_review_rate\n",
            "4       Staten Island                 3.41\n",
            "0               Bronx                 3.33\n",
            "3              Queens                 3.33\n",
            "2           Manhattan                 3.28\n",
            "1            Brooklyn                 3.26\n",
            "\n",
            "Q8-3: Average Review Rate by Room Type (Sorted):\n",
            "         room_type  average_review_rate\n",
            "1       Hotel room                 3.54\n",
            "3      Shared room                 3.31\n",
            "2     Private room                 3.28\n",
            "0  Entire home/apt                 3.28\n",
            "--------------------------------------------------\n"
          ]
        }
      ]
    },
    {
      "cell_type": "code",
      "source": [
        "# Q9: Correlation between Host Listings Count and Availability\n",
        "q9_correlation = df_cleaned['calculated_host_listings_count'].corr(df_cleaned['availability_365'])\n",
        "print(f\"Q9: Correlation (Host Listings Count vs. Availability 365): {q9_correlation:.4f}\")"
      ],
      "metadata": {
        "colab": {
          "base_uri": "https://localhost:8080/"
        },
        "id": "hcjfRVEieJ5J",
        "outputId": "c9c20bed-1568-4c2b-a664-2fd2b2c2f793"
      },
      "execution_count": 12,
      "outputs": [
        {
          "output_type": "stream",
          "name": "stdout",
          "text": [
            "Q9: Correlation (Host Listings Count vs. Availability 365): 0.1602\n"
          ]
        }
      ]
    },
    {
      "cell_type": "markdown",
      "source": [
        "# --- Conclusion (Charts) ---"
      ],
      "metadata": {
        "id": "R8X2k2XMeTaQ"
      }
    },
    {
      "cell_type": "code",
      "source": [
        "import pandas as pd\n",
        "import numpy as np\n",
        "import matplotlib.pyplot as plt\n",
        "import seaborn as sns\n",
        "\n",
        "\n",
        "\n",
        "# Analysis to define plotting variables (Q2, Q3, Q5)\n",
        "neighborhood_analysis = df_cleaned.groupby('neighbourhood_group').agg(\n",
        "    listing_count=('id', 'count'),\n",
        "    average_price=('price', 'mean')\n",
        ").reset_index()\n",
        "neighborhood_analysis_sorted_count = neighborhood_analysis.sort_values('listing_count', ascending=False)\n",
        "neighborhood_analysis_sorted_price = neighborhood_analysis.sort_values('average_price', ascending=False)\n",
        "\n",
        "top_hosts = df_cleaned.groupby('host_name')['id'].count().nlargest(10).reset_index(name='total_listings')\n",
        "\n",
        "\n",
        "# --- Visualization ---\n",
        "\n",
        "# 1. Total Listings and Average Price by Neighbourhood Group (Q2 & Q3)\n",
        "plt.figure(figsize=(14, 6))\n",
        "\n",
        "plt.subplot(1, 2, 1)\n",
        "sns.barplot(x='listing_count', y='neighbourhood_group', data=neighborhood_analysis_sorted_count, palette='viridis')\n",
        "plt.title('Total Listings by Neighbourhood Group (Q2)')\n",
        "plt.xlabel('Total Listings')\n",
        "plt.ylabel('Neighbourhood Group')\n",
        "\n",
        "plt.subplot(1, 2, 2)\n",
        "sns.barplot(x='average_price', y='neighbourhood_group', data=neighborhood_analysis_sorted_price, palette='magma')\n",
        "plt.title('Average Price by Neighbourhood Group (Q3)')\n",
        "plt.xlabel('Average Price ($)')\n",
        "plt.ylabel('')\n",
        "plt.tight_layout()\n",
        "plt.show()\n",
        "\n",
        "\n",
        "# 2. Top 10 Hosts by Total Listings (Q5)\n",
        "plt.figure(figsize=(10, 6))\n",
        "sns.barplot(x='total_listings', y='host_name', data=top_hosts, palette='rocket')\n",
        "plt.title('Top 10 Hosts by Total Listings (Q5)')\n",
        "plt.xlabel('Total Listings')\n",
        "plt.ylabel('Host Name')\n",
        "plt.tight_layout()\n",
        "plt.show()"
      ],
      "metadata": {
        "colab": {
          "base_uri": "https://localhost:8080/",
          "height": 960
        },
        "id": "D15rfHaGeaXe",
        "outputId": "617cd803-f851-422e-a730-35ff20fc05d9"
      },
      "execution_count": 14,
      "outputs": [
        {
          "output_type": "stream",
          "name": "stderr",
          "text": [
            "/tmp/ipython-input-2066562032.py:28: FutureWarning: \n",
            "\n",
            "Passing `palette` without assigning `hue` is deprecated and will be removed in v0.14.0. Assign the `y` variable to `hue` and set `legend=False` for the same effect.\n",
            "\n",
            "  sns.barplot(x='listing_count', y='neighbourhood_group', data=neighborhood_analysis_sorted_count, palette='viridis')\n",
            "/tmp/ipython-input-2066562032.py:34: FutureWarning: \n",
            "\n",
            "Passing `palette` without assigning `hue` is deprecated and will be removed in v0.14.0. Assign the `y` variable to `hue` and set `legend=False` for the same effect.\n",
            "\n",
            "  sns.barplot(x='average_price', y='neighbourhood_group', data=neighborhood_analysis_sorted_price, palette='magma')\n"
          ]
        },
        {
          "output_type": "display_data",
          "data": {
            "text/plain": [
              "<Figure size 1400x600 with 2 Axes>"
            ],
            "image/png": "[encoded data removed]"
          },
          "metadata": {}
        },
        {
          "output_type": "stream",
          "name": "stderr",
          "text": [
            "/tmp/ipython-input-2066562032.py:44: FutureWarning: \n",
            "\n",
            "Passing `palette` without assigning `hue` is deprecated and will be removed in v0.14.0. Assign the `y` variable to `hue` and set `legend=False` for the same effect.\n",
            "\n",
            "  sns.barplot(x='total_listings', y='host_name', data=top_hosts, palette='rocket')\n"
          ]
        },
        {
          "output_type": "display_data",
          "data": {
            "text/plain": [
              "<Figure size 1000x600 with 1 Axes>"
            ],
            "image/png": "[encoded data removed]"
          },
          "metadata": {}
        }
      ]
    },
    {
      "cell_type": "code",
      "source": [],
      "metadata": {
        "id": "piO3i74xe5jE"
      },
      "execution_count": null,
      "outputs": []
    },
    {
      "cell_type": "markdown",
      "source": [],
      "metadata": {
        "id": "cYCk_oLReaM9"
      }
    },
    {
      "cell_type": "markdown",
      "source": [],
      "metadata": {
        "id": "Pxm_mUHreZ2r"
      }
    },
    {
      "cell_type": "markdown",
      "metadata": {
        "id": "fMBwu7XHoBDr"
      },
      "source": [
        "# **Conclusion**"
      ]
    },
    {
      "cell_type": "markdown",
      "metadata": {
        "id": "hEvZw8KKoFSG"
      },
      "source": [
        "The analysis reveals that the NYC Airbnb market is characterized by high concentration of listings in Manhattan and Brooklyn, managed by a few dominant hosts. Pricing seems to be dictated less by property age and more by other factors, while the service fee operates as a fixed, transparent commission (perfect correlation with price). Customer satisfaction, as measured by review rate, is consistent across the market, with only the \"Hotel room\" type standing out for slightly higher average ratings."
      ]
    },
    {
      "cell_type": "markdown",
      "metadata": {
        "id": "PBv_lzilnavG"
      },
      "source": []
    },
    {
      "cell_type": "markdown",
      "metadata": {
        "id": "E49-WZ0Pm1T0"
      },
      "source": []
    },
    {
      "cell_type": "code",
      "execution_count": null,
      "metadata": {
        "id": "q4S3xiSJoRVx"
      },
      "outputs": [],
      "source": []
    },
    {
      "cell_type": "markdown",
      "metadata": {
        "id": "UMu2SsoMlqlk"
      },
      "source": []
    },
    {
      "cell_type": "markdown",
      "metadata": {
        "id": "deyFaXzB-ctl"
      },
      "source": []
    }
  ],
  "metadata": {
    "colab": {
      "provenance": []
    },
    "kernelspec": {
      "display_name": "Python 3",
      "name": "python3"
    },
    "language_info": {
      "name": "python"
    }
  },
  "nbformat": 4,
  "nbformat_minor": 0
}